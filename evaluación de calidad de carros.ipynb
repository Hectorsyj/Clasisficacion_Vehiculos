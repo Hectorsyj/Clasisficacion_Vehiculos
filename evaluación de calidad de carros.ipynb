{
 "cells": [
  {
   "cell_type": "markdown",
   "id": "5ec11567-3c73-483f-a225-19995933b7bf",
   "metadata": {},
   "source": [
    "# “Proyecto 2 – Modelos de clasificación supervisada para evaluar la calidad de un automovil”"
   ]
  },
  {
   "cell_type": "markdown",
   "id": "c4dfc79d-0dc3-48c7-8908-9c841c95e7e6",
   "metadata": {},
   "source": [
    "                                     VALERIE FAJARDO VFAJARD45354 HECTOR BELLO HBELLOS52070 HAROLD MENDOZA HMENDOZ25900\n",
    "                                                                   MACHINE LEARNING I"
   ]
  },
  {
   "cell_type": "markdown",
   "id": "d333c3ab-922c-4244-ab08-5111c2cf7eb2",
   "metadata": {},
   "source": [
    "## Explicación del Problema:\n",
    "En este análisis, el conjunto de datos de evaluación de automóviles es un recurso valioso para la investigación en aprendizaje automático, específicamente en tareas de clasificación. Fue creado a partir de un modelo de decisión jerárquico simple y se ha utilizado extensamente para probar algoritmos de inducción constructiva y descubrimiento de estructuras.\n",
    "El problema principal que se puede abordar con este conjunto de datos es predecir la aceptabilidad de un automóvil basándose en sus características. En otras palabras, dado un nuevo automóvil con valores conocidos para los seis atributos, se busca determinar si el automóvil es inaceptable, aceptable, bueno o muy bueno.\n",
    "Este conjunto de datos de evaluación de automóviles ofrece una oportunidad excelente para aplicar técnicas de aprendizaje automático y desarrollar modelos predictivos.Lo convierten en un punto de partida ideal para nosotros que deseamos aprender sobre clasificación y análisis de datos.\n",
    "Unas caracterisiticas de este modelo \n",
    "Derivado de un modelo de decisión jerárquico.\r",
    " Evaluar la aceptabilidad general de un automóvi es su objetivol.• Seis atributos categóricos que describen diferentes características del vehículo; prieco de compra, mantenimiento, número de puertas, capacidad, tamaño del maletero, seguridad CLASES.  La variable objetivclasee\" identifica el nivel de evaluación del automóvil -inaceptable, aceptable, bueno, muy bueno- Tamaño.s."
   ]
  },
  {
   "cell_type": "code",
   "execution_count": 4,
   "id": "23f9bda7-7793-4978-8438-1a83032842c3",
   "metadata": {},
   "outputs": [],
   "source": [
    "\n",
    "import pandas as pd\n",
    "import numpy as np\n",
    "import matplotlib.pyplot as plt\n",
    "import seaborn as sns\n",
    "from sklearn.preprocessing import StandardScaler\n",
    "from sklearn.linear_model import LogisticRegression,SGDRegressor, SGDClassifier\n",
    "import requests\n",
    "from bs4 import BeautifulSoup\n",
    "from sklearn.pipeline import Pipeline\n",
    "from sklearn.model_selection import train_test_split, cross_val_score, KFold\n",
    "from sklearn.metrics import mean_squared_error, r2_score, accuracy_score, precision_score, recall_score, f1_score, confusion_matrix, classification_report\n",
    "from sklearn.tree import DecisionTreeClassifier\n",
    "from sklearn.ensemble import RandomForestClassifier\n",
    "\n"
   ]
  },
  {
   "cell_type": "code",
   "execution_count": 5,
   "id": "fb65e66b-e200-4be9-9c67-34f26d29dbbe",
   "metadata": {},
   "outputs": [
    {
     "name": "stdout",
     "output_type": "stream",
     "text": [
      "<class 'pandas.core.frame.DataFrame'>\n",
      "RangeIndex: 1728 entries, 0 to 1727\n",
      "Data columns (total 7 columns):\n",
      " #   Column    Non-Null Count  Dtype \n",
      "---  ------    --------------  ----- \n",
      " 0   buying    1728 non-null   object\n",
      " 1   maint     1728 non-null   object\n",
      " 2   doors     1728 non-null   object\n",
      " 3   persons   1728 non-null   object\n",
      " 4   lug_boot  1728 non-null   object\n",
      " 5   safety    1728 non-null   object\n",
      " 6   class     1728 non-null   object\n",
      "dtypes: object(7)\n",
      "memory usage: 94.6+ KB\n"
     ]
    },
    {
     "data": {
      "text/plain": [
       "(  buying  maint doors persons lug_boot safety  class\n",
       " 0  vhigh  vhigh     2       2    small    low  unacc\n",
       " 1  vhigh  vhigh     2       2    small    med  unacc\n",
       " 2  vhigh  vhigh     2       2    small   high  unacc\n",
       " 3  vhigh  vhigh     2       2      med    low  unacc\n",
       " 4  vhigh  vhigh     2       2      med    med  unacc,\n",
       " None)"
      ]
     },
     "execution_count": 5,
     "metadata": {},
     "output_type": "execute_result"
    }
   ],
   "source": [
    "###C:\\Users\\harol\\Downloads\\car+evaluation\n",
    "# Cargar el archivo .data\n",
    "data_path = \"C:\\\\Users\\\\dihwz773\\\\Ciencia de Datos\\\\Machine learning\\\\Caso 2 Analisis carro\\\\car.data\"\n",
    "column_names = ['buying', 'maint', 'doors', 'persons', 'lug_boot', 'safety', 'class']\n",
    "df = pd.read_csv(data_path, header=None, names=column_names)\n",
    "\n",
    "# Mostrar los primeros registros y la información general\n",
    "df.head(), df.info()"
   ]
  },
  {
   "cell_type": "code",
   "execution_count": 37,
   "id": "ddae2562-5554-4bf3-924f-4d47f8a230f5",
   "metadata": {},
   "outputs": [
    {
     "name": "stdout",
     "output_type": "stream",
     "text": [
      "       buying  maint doors persons lug_boot safety  class\n",
      "count    1728   1728  1728    1728     1728   1728   1728\n",
      "unique      4      4     4       3        3      3      4\n",
      "top     vhigh  vhigh     2       2    small    low  unacc\n",
      "freq      432    432   432     576      576    576   1210 \n",
      "\n",
      "     buying  maint  doors persons lug_boot safety  class\n",
      "0     vhigh  vhigh      2       2    small    low  unacc\n",
      "1     vhigh  vhigh      2       2    small    med  unacc\n",
      "2     vhigh  vhigh      2       2    small   high  unacc\n",
      "3     vhigh  vhigh      2       2      med    low  unacc\n",
      "4     vhigh  vhigh      2       2      med    med  unacc\n",
      "...     ...    ...    ...     ...      ...    ...    ...\n",
      "1723    low    low  5more    more      med    med   good\n",
      "1724    low    low  5more    more      med   high  vgood\n",
      "1725    low    low  5more    more      big    low  unacc\n",
      "1726    low    low  5more    more      big    med   good\n",
      "1727    low    low  5more    more      big   high  vgood\n",
      "\n",
      "[1728 rows x 7 columns]\n"
     ]
    }
   ],
   "source": [
    "print(df.describe(),'\\n')\n",
    "print(df)"
   ]
  },
  {
   "cell_type": "markdown",
   "id": "90f4ac6b-ff79-482c-9982-993eb6f457ee",
   "metadata": {},
   "source": [
    "\n",
    "* A continuaion describiremos que informacion contiene cada una de las variables del DataFrame\n"
   ]
  },
  {
   "cell_type": "code",
   "execution_count": 8,
   "id": "d2938030-0c80-4eb8-a843-a1b5f9163fca",
   "metadata": {},
   "outputs": [
    {
     "name": "stdout",
     "output_type": "stream",
     "text": [
      "  Variable Name                                        Description\n",
      "1        buying                                       buying price\n",
      "2         maint                           price of the maintenance\n",
      "3         doors                                    number of doors\n",
      "4       persons              capacity in terms of persons to carry\n",
      "5      lug_boot                           the size of luggage boot\n",
      "6        safety                        estimated safety of the car\n",
      "7         class  evaulation level (unacceptable, acceptable, go... \n",
      "\n"
     ]
    }
   ],
   "source": [
    "url = \"https://archive.ics.uci.edu/dataset/19/car+evaluation\"\n",
    "response = requests.get(url)\n",
    "soup = BeautifulSoup(response.content, 'html.parser')\n",
    "table = soup.find('table')  # Busca la primera tabla en la página\n",
    "headers = []\n",
    "\n",
    "# Organiza los titulos\n",
    "for th in table.find_all('th'):\n",
    "    headers.append(th.text.strip())\n",
    "#Organiza la informacion de la tabla\n",
    "data = []\n",
    "for tr in table.find_all('tr'):\n",
    "    row = [td.text.strip() for td in tr.find_all('td')]\n",
    "    data.append(row)\n",
    "# estructura un dataframe con la tabla\n",
    "df_sign = pd.DataFrame(data, columns=headers)\n",
    "\n",
    "#Elimina columnas que no nos sirven en el dataframe\n",
    "df_sign = df_sign.drop(['Role','Type','Units','Missing Values'], axis =1).drop(index = 0 , axis =0)\n",
    "print(f\"{df_sign} \\n\")"
   ]
  },
  {
   "cell_type": "markdown",
   "id": "0293b24b-d571-4874-b89a-25ba4ead89c8",
   "metadata": {},
   "source": [
    "###  7. Ahora en una celda de código cargue la base car.data determine la cantidad de variables y registros, indique cuales son numéricas y cualitativas y haga un resumen de esa información."
   ]
  },
  {
   "cell_type": "code",
   "execution_count": 10,
   "id": "9316089c-d442-468a-b8fa-bd54ce6e19cd",
   "metadata": {},
   "outputs": [
    {
     "name": "stdout",
     "output_type": "stream",
     "text": [
      "Variables cualitativas: ['buying', 'maint', 'doors', 'persons', 'lug_boot', 'safety', 'class']\n"
     ]
    },
    {
     "data": {
      "text/html": [
       "<div>\n",
       "<style scoped>\n",
       "    .dataframe tbody tr th:only-of-type {\n",
       "        vertical-align: middle;\n",
       "    }\n",
       "\n",
       "    .dataframe tbody tr th {\n",
       "        vertical-align: top;\n",
       "    }\n",
       "\n",
       "    .dataframe thead th {\n",
       "        text-align: right;\n",
       "    }\n",
       "</style>\n",
       "<table border=\"1\" class=\"dataframe\">\n",
       "  <thead>\n",
       "    <tr style=\"text-align: right;\">\n",
       "      <th></th>\n",
       "      <th>buying</th>\n",
       "      <th>maint</th>\n",
       "      <th>doors</th>\n",
       "      <th>persons</th>\n",
       "      <th>lug_boot</th>\n",
       "      <th>safety</th>\n",
       "      <th>class</th>\n",
       "    </tr>\n",
       "  </thead>\n",
       "  <tbody>\n",
       "    <tr>\n",
       "      <th>count</th>\n",
       "      <td>1728</td>\n",
       "      <td>1728</td>\n",
       "      <td>1728</td>\n",
       "      <td>1728</td>\n",
       "      <td>1728</td>\n",
       "      <td>1728</td>\n",
       "      <td>1728</td>\n",
       "    </tr>\n",
       "    <tr>\n",
       "      <th>unique</th>\n",
       "      <td>4</td>\n",
       "      <td>4</td>\n",
       "      <td>4</td>\n",
       "      <td>3</td>\n",
       "      <td>3</td>\n",
       "      <td>3</td>\n",
       "      <td>4</td>\n",
       "    </tr>\n",
       "    <tr>\n",
       "      <th>top</th>\n",
       "      <td>vhigh</td>\n",
       "      <td>vhigh</td>\n",
       "      <td>2</td>\n",
       "      <td>2</td>\n",
       "      <td>small</td>\n",
       "      <td>low</td>\n",
       "      <td>unacc</td>\n",
       "    </tr>\n",
       "    <tr>\n",
       "      <th>freq</th>\n",
       "      <td>432</td>\n",
       "      <td>432</td>\n",
       "      <td>432</td>\n",
       "      <td>576</td>\n",
       "      <td>576</td>\n",
       "      <td>576</td>\n",
       "      <td>1210</td>\n",
       "    </tr>\n",
       "  </tbody>\n",
       "</table>\n",
       "</div>"
      ],
      "text/plain": [
       "       buying  maint doors persons lug_boot safety  class\n",
       "count    1728   1728  1728    1728     1728   1728   1728\n",
       "unique      4      4     4       3        3      3      4\n",
       "top     vhigh  vhigh     2       2    small    low  unacc\n",
       "freq      432    432   432     576      576    576   1210"
      ]
     },
     "execution_count": 10,
     "metadata": {},
     "output_type": "execute_result"
    }
   ],
   "source": [
    "# Determinar cuáles variables son cualitativas\n",
    "qualitative_vars = df.select_dtypes(include='object').columns.tolist()\n",
    "print(f\"Variables cualitativas: {qualitative_vars}\")\n",
    "\n",
    "# Resumen de información para variables cualitativas\n",
    "summary = df.describe(include='object')\n",
    "summary\n"
   ]
  },
  {
   "cell_type": "markdown",
   "id": "61233851-b71b-4cbe-8652-14d7ac04b196",
   "metadata": {},
   "source": [
    "tambien es interesante la evaluacion de histogramas de las variables.\n"
   ]
  },
  {
   "cell_type": "code",
   "execution_count": 12,
   "id": "6e327dec-ed5a-466f-9b07-817cc4f8b931",
   "metadata": {},
   "outputs": [
    {
     "data": {
      "image/png": "[encoded data removed]",
      "text/plain": [
       "<Figure size 1400x800 with 8 Axes>"
      ]
     },
     "metadata": {},
     "output_type": "display_data"
    }
   ],
   "source": [
    "# Crear el diagrama de barras\n",
    "fig, asx = plt.subplots(2,4, figsize =(14,8))\n",
    "i = 0\n",
    "j = 0\n",
    "for colum in df:\n",
    "    if j == 4:\n",
    "        j=0\n",
    "        i=1\n",
    "    \n",
    "    asx[i,j].bar(df[colum].unique(), df.groupby(colum).size())\n",
    "    asx[i,j].set_title(f'Frec de {colum}') \n",
    "    j = j+1\n",
    "plt.show()\n"
   ]
  },
  {
   "cell_type": "code",
   "execution_count": 13,
   "id": "05c0e3f5-8db5-4f5e-b905-ab921950fea5",
   "metadata": {},
   "outputs": [
    {
     "name": "stdout",
     "output_type": "stream",
     "text": [
      "      buying  maint  doors  persons  lug_boot  safety  class\n",
      "0          3      3      0        0         2       1      2\n",
      "1          3      3      0        0         2       2      2\n",
      "2          3      3      0        0         2       0      2\n",
      "3          3      3      0        0         1       1      2\n",
      "4          3      3      0        0         1       2      2\n",
      "...      ...    ...    ...      ...       ...     ...    ...\n",
      "1723       1      1      3        2         1       2      1\n",
      "1724       1      1      3        2         1       0      3\n",
      "1725       1      1      3        2         0       1      2\n",
      "1726       1      1      3        2         0       2      1\n",
      "1727       1      1      3        2         0       0      3\n",
      "\n",
      "[1728 rows x 7 columns]\n"
     ]
    }
   ],
   "source": [
    "from sklearn.preprocessing import LabelEncoder\n",
    "le = LabelEncoder()\n",
    "df_encod = pd.DataFrame()\n",
    "for col in df:\n",
    "    df_encod[col] = le.fit_transform(df[col])\n",
    "print(df_encod)"
   ]
  },
  {
   "cell_type": "markdown",
   "id": "ae336e98-6a06-4988-bc52-3694c60db677",
   "metadata": {},
   "source": [
    "###  8. La variable class es la variable objetivo, haga una partición adecuada de la base para determinar entrenamiento y testeo."
   ]
  },
  {
   "cell_type": "code",
   "execution_count": 15,
   "id": "25c39165-601d-49b0-85b0-3ea68bc53367",
   "metadata": {},
   "outputs": [
    {
     "data": {
      "text/plain": [
       "(((1209, 6), (519, 6)), ((1209,), (519,)))"
      ]
     },
     "execution_count": 15,
     "metadata": {},
     "output_type": "execute_result"
    }
   ],
   "source": [
    "from sklearn.model_selection import train_test_split\n",
    "# Separar variables predictoras de la variable objetivo\n",
    "X = df_encod.drop('class', axis=1)\n",
    "y = df_encod['class']\n",
    "# Realizar la partición de datos\n",
    "X_train, X_test, y_train, y_test = train_test_split(X, y, test_size=0.3, random_state=42)\n",
    "(X_train.shape, X_test.shape), (y_train.shape, y_test.shape)"
   ]
  },
  {
   "cell_type": "markdown",
   "id": "d865bcb7-6e24-47a8-8a95-5c36446f5f74",
   "metadata": {},
   "source": [
    "###  9. Aplique varios modelos de aprendizaje y determine los reportes de clasificación del paquete scikit-learn."
   ]
  },
  {
   "cell_type": "code",
   "execution_count": 17,
   "id": "633b2a05-9cab-458e-9fb3-bd7990abf76b",
   "metadata": {},
   "outputs": [
    {
     "data": {
      "text/plain": [
       "(array([[2., 2., 3., 1., 0., 0.],\n",
       "        [0., 0., 1., 2., 2., 1.],\n",
       "        [1., 2., 1., 1., 1., 2.],\n",
       "        [2., 2., 3., 0., 0., 0.],\n",
       "        [2., 0., 2., 0., 0., 2.]]),\n",
       " array([[0., 0., 2., 0., 1., 0.],\n",
       "        [2., 1., 0., 1., 1., 2.],\n",
       "        [0., 0., 3., 0., 0., 2.],\n",
       "        [1., 0., 3., 1., 1., 2.],\n",
       "        [2., 1., 2., 2., 1., 1.]]))"
      ]
     },
     "execution_count": 17,
     "metadata": {},
     "output_type": "execute_result"
    }
   ],
   "source": [
    "from sklearn.preprocessing import OrdinalEncoder\n",
    "# Codificación de variables categóricas para modelos de aprendizaje\n",
    "encoder = OrdinalEncoder()\n",
    "X_train_encoded = encoder.fit_transform(X_train)\n",
    "X_test_encoded = encoder.transform(X_test)\n",
    "X_train_encoded[:5], X_test_encoded[:5] # Verificar las primeras filas codificadas\n",
    "    "
   ]
  },
  {
   "cell_type": "code",
   "execution_count": 18,
   "id": "e83d1bfe-18a7-44d2-a3f1-c8ff4463f2b2",
   "metadata": {},
   "outputs": [
    {
     "data": {
      "image/png": "[encoded data removed]",
      "text/plain": [
       "<Figure size 640x480 with 2 Axes>"
      ]
     },
     "metadata": {},
     "output_type": "display_data"
    }
   ],
   "source": [
    "# Análisis de correlación\n",
    "corr_matrix = df_encod.corr()\n",
    "sns.heatmap(corr_matrix, annot=True, cmap='coolwarm')\n",
    "plt.title('Matriz de Correlación')\n",
    "plt.show()"
   ]
  },
  {
   "cell_type": "markdown",
   "id": "3e28186b-eff6-41e5-abe6-644871694479",
   "metadata": {},
   "source": [
    "### Conclusion\n",
    "A través de la matriz de correlacion podemos ver que las variables no tienen alguna relación entre ellas, mostrado esto en el grafico con coeficientes muy cercana a 0, al confrontar con la variable objetivo (class) empezamos a ver alguna relación pero en un nivel muy bajo lo cual nos indica que estas variables son independientes y no correlacionados por lo que pueden ser utiles para contruir el modelo."
   ]
  },
  {
   "cell_type": "code",
   "execution_count": 29,
   "id": "ea69267d-f67a-4617-b3e0-e2eb11edf825",
   "metadata": {},
   "outputs": [
    {
     "name": "stderr",
     "output_type": "stream",
     "text": [
      "C:\\Users\\dihwz773\\AppData\\Local\\anaconda3\\Lib\\site-packages\\sklearn\\metrics\\_classification.py:1509: UndefinedMetricWarning: Precision is ill-defined and being set to 0.0 in labels with no predicted samples. Use `zero_division` parameter to control this behavior.\n",
      "  _warn_prf(average, modifier, f\"{metric.capitalize()} is\", len(result))\n",
      "C:\\Users\\dihwz773\\AppData\\Local\\anaconda3\\Lib\\site-packages\\sklearn\\metrics\\_classification.py:1509: UndefinedMetricWarning: Precision is ill-defined and being set to 0.0 in labels with no predicted samples. Use `zero_division` parameter to control this behavior.\n",
      "  _warn_prf(average, modifier, f\"{metric.capitalize()} is\", len(result))\n",
      "C:\\Users\\dihwz773\\AppData\\Local\\anaconda3\\Lib\\site-packages\\sklearn\\metrics\\_classification.py:1509: UndefinedMetricWarning: Precision is ill-defined and being set to 0.0 in labels with no predicted samples. Use `zero_division` parameter to control this behavior.\n",
      "  _warn_prf(average, modifier, f\"{metric.capitalize()} is\", len(result))\n",
      "C:\\Users\\dihwz773\\AppData\\Local\\anaconda3\\Lib\\site-packages\\sklearn\\metrics\\_classification.py:1509: UndefinedMetricWarning: Precision is ill-defined and being set to 0.0 in labels with no predicted samples. Use `zero_division` parameter to control this behavior.\n",
      "  _warn_prf(average, modifier, f\"{metric.capitalize()} is\", len(result))\n",
      "C:\\Users\\dihwz773\\AppData\\Local\\anaconda3\\Lib\\site-packages\\sklearn\\metrics\\_classification.py:1509: UndefinedMetricWarning: Precision is ill-defined and being set to 0.0 in labels with no predicted samples. Use `zero_division` parameter to control this behavior.\n",
      "  _warn_prf(average, modifier, f\"{metric.capitalize()} is\", len(result))\n",
      "C:\\Users\\dihwz773\\AppData\\Local\\anaconda3\\Lib\\site-packages\\sklearn\\metrics\\_classification.py:1509: UndefinedMetricWarning: Precision is ill-defined and being set to 0.0 in labels with no predicted samples. Use `zero_division` parameter to control this behavior.\n",
      "  _warn_prf(average, modifier, f\"{metric.capitalize()} is\", len(result))\n"
     ]
    },
    {
     "name": "stdout",
     "output_type": "stream",
     "text": [
      "Reporte de clasificación para Logistic Regression:\n",
      "              precision    recall  f1-score   support\n",
      "\n",
      "           0       0.30      0.18      0.22       118\n",
      "           1       0.00      0.00      0.00        19\n",
      "           2       0.73      0.90      0.81       358\n",
      "           3       0.14      0.04      0.06        24\n",
      "\n",
      "    accuracy                           0.66       519\n",
      "   macro avg       0.29      0.28      0.27       519\n",
      "weighted avg       0.58      0.66      0.61       519\n",
      "\n",
      "Confusion Matrix Logistic Regression:\n",
      "[[ 21   0  92   5]\n",
      " [  3   0  16   0]\n",
      " [ 34   0 323   1]\n",
      " [ 12   0  11   1]] \n",
      "\n",
      "Reporte de clasificación para Decision Tree:\n",
      "              precision    recall  f1-score   support\n",
      "\n",
      "           0       0.92      0.93      0.92       118\n",
      "           1       0.71      0.89      0.79        19\n",
      "           2       0.99      0.98      0.99       358\n",
      "           3       0.90      0.79      0.84        24\n",
      "\n",
      "    accuracy                           0.96       519\n",
      "   macro avg       0.88      0.90      0.89       519\n",
      "weighted avg       0.96      0.96      0.96       519\n",
      "\n",
      "Confusion Matrix Decision Tree:\n",
      "[[110   5   2   1]\n",
      " [  1  17   0   1]\n",
      " [  6   0 352   0]\n",
      " [  3   2   0  19]] \n",
      "\n",
      "Reporte de clasificación para Random Forest:\n",
      "              precision    recall  f1-score   support\n",
      "\n",
      "           0       0.93      0.92      0.92       118\n",
      "           1       0.70      0.84      0.76        19\n",
      "           2       0.99      0.99      0.99       358\n",
      "           3       0.91      0.88      0.89        24\n",
      "\n",
      "    accuracy                           0.96       519\n",
      "   macro avg       0.88      0.91      0.89       519\n",
      "weighted avg       0.97      0.96      0.96       519\n",
      "\n",
      "Confusion Matrix Random Forest:\n",
      "[[108   7   2   1]\n",
      " [  2  16   0   1]\n",
      " [  3   0 355   0]\n",
      " [  3   0   0  21]] \n",
      "\n"
     ]
    }
   ],
   "source": [
    "\n",
    "# Definir modelos a entrenar\n",
    "models = {\n",
    "    'Logistic Regression': LogisticRegression(max_iter=200),\n",
    "    'Decision Tree': DecisionTreeClassifier(),\n",
    "    'Random Forest': RandomForestClassifier()\n",
    "}\n",
    "\n",
    "# Entrenar y evaluar cada modelo\n",
    "reports = {}\n",
    "for name, model in models.items():\n",
    "    model.fit(X_train_encoded, y_train)\n",
    "    y_pred = model.predict(X_test_encoded)\n",
    "    report = classification_report(y_test, y_pred, output_dict=True)\n",
    "    reports[name] = report\n",
    "    print(f\"Reporte de clasificación para {name}:\")\n",
    "    print(classification_report(y_test, y_pred))\n",
    "    print(f\"Confusion Matrix {name}:\")\n",
    "    print(confusion_matrix(y_test, y_pred),\"\\n\")"
   ]
  },
  {
   "cell_type": "code",
   "execution_count": 31,
   "id": "f10db882-640c-44e3-86ff-70d6a8e33849",
   "metadata": {
    "scrolled": true
   },
   "outputs": [
    {
     "data": {
      "text/html": [
       "<div>\n",
       "<style scoped>\n",
       "    .dataframe tbody tr th:only-of-type {\n",
       "        vertical-align: middle;\n",
       "    }\n",
       "\n",
       "    .dataframe tbody tr th {\n",
       "        vertical-align: top;\n",
       "    }\n",
       "\n",
       "    .dataframe thead th {\n",
       "        text-align: right;\n",
       "    }\n",
       "</style>\n",
       "<table border=\"1\" class=\"dataframe\">\n",
       "  <thead>\n",
       "    <tr style=\"text-align: right;\">\n",
       "      <th></th>\n",
       "      <th>Logistic Regression</th>\n",
       "      <th>Decision Tree</th>\n",
       "      <th>Random Forest</th>\n",
       "    </tr>\n",
       "  </thead>\n",
       "  <tbody>\n",
       "    <tr>\n",
       "      <th>precision</th>\n",
       "      <td>0.578890</td>\n",
       "      <td>0.962075</td>\n",
       "      <td>0.965293</td>\n",
       "    </tr>\n",
       "    <tr>\n",
       "      <th>recall</th>\n",
       "      <td>0.664740</td>\n",
       "      <td>0.959538</td>\n",
       "      <td>0.963391</td>\n",
       "    </tr>\n",
       "    <tr>\n",
       "      <th>f1-score</th>\n",
       "      <td>0.610781</td>\n",
       "      <td>0.960199</td>\n",
       "      <td>0.964051</td>\n",
       "    </tr>\n",
       "  </tbody>\n",
       "</table>\n",
       "</div>"
      ],
      "text/plain": [
       "           Logistic Regression  Decision Tree  Random Forest\n",
       "precision             0.578890       0.962075       0.965293\n",
       "recall                0.664740       0.959538       0.963391\n",
       "f1-score              0.610781       0.960199       0.964051"
      ]
     },
     "execution_count": 31,
     "metadata": {},
     "output_type": "execute_result"
    }
   ],
   "source": [
    "import pandas as pd\n",
    "\n",
    "# Crear un DataFrame resumen de los reportes de clasificación\n",
    "summary_df = pd.DataFrame({model: {'precision': report['weighted avg']['precision'],\n",
    "                                   'recall': report['weighted avg']['recall'],\n",
    "                                   'f1-score': report['weighted avg']['f1-score']}\n",
    "                           for model, report in reports.items()})\n",
    "summary_df"
   ]
  },
  {
   "cell_type": "markdown",
   "id": "d19c609c-dc4c-4ada-a486-010dd8684b0e",
   "metadata": {},
   "source": [
    "## Conclusion\n",
    "\n",
    "Podríamos pensar que un análisis de frecuencias para encontrar la probabilidad de que un evento pueda ocurrir o no, como en el caso de la clasificacion de los vehículos, partiendo de sus cualidades como el numero de pasajeros que transporta, el tamaño del maletero o el costo de mantenimiento del mismo podria servir muy bien para clasificacion su nivel de aceptabilidad, pero encontramos que existen otros 2 modelos que funcionan de una mejor manera como el árbol de decisión en el cual crea diferentes escenarios de las variables independientes como si el tamaño del baúl es grande, con capacidad de 3 pasajeros y un alto costos de los mantenimientos es considerado un auto aceptable, aún mejor encontramos que el modelo de bosque aleatorio el cual logra el mismo analisis anterior pero un numero de veces de manera simultanea, para luego promediar los resultados y asi evitar sobreajustes del modelo y encontrar Una mejor predicción de los datos. Muestra de esto esta en los altos porcentajes de precisión que encontramos en el modelo.\n",
    "\n",
    "Por último al comparado los valores de recall econtramos que el modelo de árbol en la variable Muy bueno (3 en la codificacion) tiene un mejor indicador que en el modelo de bosque aleatorio lo que nos podria llevar a pensar que el primer modelo es mejor, pero sí promediaramos los indicadores de todas las variables de salida encontraríamos que realmente en el arbol aleatorio existe una mayor precisión global para la categorías qué necesitamos predecir."
   ]
  },
  {
   "cell_type": "markdown",
   "id": "3e9732f6-cab5-4b54-a3f4-df4e4356f4ba",
   "metadata": {},
   "source": [
    "## Mejorando el modelo"
   ]
  },
  {
   "cell_type": "code",
   "execution_count": 22,
   "id": "bdcc1b19-66af-42c7-8d50-4f5abb39a58c",
   "metadata": {},
   "outputs": [
    {
     "name": "stdout",
     "output_type": "stream",
     "text": [
      "Precisión del modelo de Random Forest: 0.97\n",
      "Reporte de Clasificación:\n",
      "              precision    recall  f1-score   support\n",
      "\n",
      "           0       0.93      0.92      0.93       118\n",
      "           1       0.71      0.89      0.79        19\n",
      "           2       1.00      0.99      0.99       358\n",
      "           3       0.95      0.88      0.91        24\n",
      "\n",
      "    accuracy                           0.97       519\n",
      "   macro avg       0.90      0.92      0.91       519\n",
      "weighted avg       0.97      0.97      0.97       519\n",
      "\n"
     ]
    },
    {
     "name": "stderr",
     "output_type": "stream",
     "text": [
      "C:\\Users\\dihwz773\\AppData\\Local\\anaconda3\\Lib\\site-packages\\sklearn\\base.py:486: UserWarning: X has feature names, but RandomForestClassifier was fitted without feature names\n",
      "  warnings.warn(\n"
     ]
    }
   ],
   "source": [
    "\n",
    "# Entrenar el modelo mejorado de Random Forest\n",
    "rf_model = RandomForestClassifier(n_estimators=100, random_state=42)\n",
    "rf_model.fit(X_train_encoded, y_train)\n",
    "\n",
    "# Predicciones y evaluación\n",
    "y_pred = rf_model.predict(X_test)\n",
    "accuracy = accuracy_score(y_test, y_pred)\n",
    "classification_rep = classification_report(y_test, y_pred)\n",
    "\n",
    "print(f\"Precisión del modelo de Random Forest: {accuracy:.2f}\")\n",
    "print(\"Reporte de Clasificación:\")\n",
    "print(classification_rep)"
   ]
  },
  {
   "cell_type": "markdown",
   "id": "4b0f0040-cc56-4c03-835d-ba58d667e19d",
   "metadata": {},
   "source": [
    "## Conclusion\n",
    "\n",
    "Cómo visualizamos en la parte comparativa de los modelos, encotramos que el random forest es uno de los modelo con los mas altos imdicadores de aceptabilidad a la hora de categorizar los vehiculos, por lo que realizamos una nueva evaluación del modelo incrementando el número de árboles dentro del mismo, para evaluar la posibilidad de mejorar los indicadores, cambiamos esta variable a 100 estimaciones y encontramos una leve mejora de modelo, lo cual es aceptable partiendo de hecho que el modelo ya arrojaba buenos resultados. Pero esto nos ayuda a entender como mejorar un modelo cuando requerimos una mejor prediccion."
   ]
  },
  {
   "cell_type": "markdown",
   "id": "dde9807f-da8a-45ad-b4f9-71b384ea26f4",
   "metadata": {},
   "source": [
    "## Conclusiones del Análisis de Calidad de Automóviles\n",
    "\n",
    "Objetivo del Modelo: Se busca predecir la aceptabilidad de un automóvil basado en seis atributos categóricos como precio de compra, costo de mantenimiento, número de puertas, capacidad de personas, tamaño del maletero, y nivel de seguridad. Estos factores permiten categorizar los automóviles en niveles de calidad.\n",
    "\n",
    "Análisis Exploratorio: La visualización de datos reveló patrones claros en la distribución de cada categoría de atributo, mostrando que ciertos valores de atributos como la seguridad y el tamaño del maletero podrían tener una correlación significativa con la aceptabilidad del automóvil.\n",
    "\n",
    "Analisis del Modelo Usado: A través del análisis de este problema encontramos que es muy importante conocer el concepto de cada uno de los modelos y su forma de trabajo, de esa manera podríamos conectar el tipo de problema con el modelo que podríamos usar para este.\n",
    "Inicialmente nuestra percepción nos hizo pensar que a través de las probabilidades de las características en un vehículo podrían determinar fácilmente qué tipo de la clasificación tiene el vehículo, pero al correr el modelo no nos arrojó los mejores resultados, por otro lado los modelos de clasificación  como el modelo de árbol y el modelo de bosque aleatorio crean escenarios en donde la combinación de las variables permiten la clasificación del vehículo lo cual funciono mejor para este tipo de problema y obtuvimos unos mejores resultados. \n",
    "También es importante conocer cómo mejorar cada uno de los modelos en caso de que las métricas no arrojen los niveles esperados de precisión.\n",
    "\n",
    "Los resultados están por encima del 95% lo cual nos pareció un buen nivel de predicción y que aún se puede seguir mejorando como vimos en alguna parte del análisis.\n",
    "\n",
    "Interpretación de Resultados: Los resultados de la clasificación mostraron diferencias en la precisión para cada categoría de aceptabilidad del automóvil, lo cual sugiere que algunos atributos impactan más en la predicción de la aceptabilidad que otros.\n"
   ]
  }
 ],
 "metadata": {
  "kernelspec": {
   "display_name": "Python 3 (ipykernel)",
   "language": "python",
   "name": "python3"
  },
  "language_info": {
   "codemirror_mode": {
    "name": "ipython",
    "version": 3
   },
   "file_extension": ".py",
   "mimetype": "text/x-python",
   "name": "python",
   "nbconvert_exporter": "python",
   "pygments_lexer": "ipython3",
   "version": "3.12.4"
  }
 },
 "nbformat": 4,
 "nbformat_minor": 5
}
